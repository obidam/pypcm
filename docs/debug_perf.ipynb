{
 "cells": [
  {
   "cell_type": "markdown",
   "metadata": {
    "papermill": {
     "duration": 0.014606,
     "end_time": "2020-02-11T23:11:16.195478",
     "exception": false,
     "start_time": "2020-02-11T23:11:16.180872",
     "status": "completed"
    },
    "tags": [],
    "toc-hr-collapsed": false
   },
   "source": [
    "# Debugging and performances"
   ]
  },
  {
   "cell_type": "code",
   "execution_count": 1,
   "metadata": {
    "nbsphinx": "hidden",
    "papermill": {
     "duration": 1.261997,
     "end_time": "2020-02-11T23:11:17.468104",
     "exception": false,
     "start_time": "2020-02-11T23:11:16.206107",
     "status": "completed"
    },
    "tags": []
   },
   "outputs": [
    {
     "name": "stdout",
     "output_type": "stream",
     "text": [
      "xarray: 0.14.2.dev62+g6d1434e9, /Users/gmaze/anaconda/envs/obidam36/lib/python3.6/site-packages/xarray/__init__.py\n"
     ]
    },
    {
     "name": "stdout",
     "output_type": "stream",
     "text": [
      "pyxpcm: 0.4.0, /Users/gmaze/git/github/gmaze/pyxpcm/pyxpcm/__init__.py\n"
     ]
    }
   ],
   "source": [
    "# Hidden cell\n",
    "import os, sys\n",
    "import numpy as np\n",
    "import pandas as pd\n",
    "import xarray as xr\n",
    "print(\"xarray: %s, %s\" % (xr.__version__, xr.__file__))\n",
    "\n",
    "import matplotlib.pyplot as plt\n",
    "%matplotlib inline\n",
    "sys.path.insert(0, os.path.abspath('/Users/gmaze/git/github/gmaze/pyxpcm'))\n",
    "\n",
    "import pyxpcm\n",
    "print(\"pyxpcm: %s, %s\" % (pyxpcm.__version__, pyxpcm.__file__))"
   ]
  },
  {
   "cell_type": "markdown",
   "metadata": {
    "papermill": {
     "duration": 0.007441,
     "end_time": "2020-02-11T23:11:17.483333",
     "exception": false,
     "start_time": "2020-02-11T23:11:17.475892",
     "status": "completed"
    },
    "tags": []
   },
   "source": [
    "**Import and set-up**\n",
    "\n",
    "Import the library and toy data"
   ]
  },
  {
   "cell_type": "code",
   "execution_count": 2,
   "metadata": {
    "papermill": {
     "duration": 0.045945,
     "end_time": "2020-02-11T23:11:17.537228",
     "exception": false,
     "start_time": "2020-02-11T23:11:17.491283",
     "status": "completed"
    },
    "tags": []
   },
   "outputs": [],
   "source": [
    "import pyxpcm\n",
    "from pyxpcm.models import pcm\n",
    "\n",
    "# Load a dataset to work with:\n",
    "ds = pyxpcm.tutorial.open_dataset('argo').load()\n",
    "\n",
    "# Define vertical axis and features to use:\n",
    "z = np.arange(0.,-1000.,-10.)\n",
    "features_pcm = {'temperature': z, 'salinity': z}\n",
    "features_in_ds = {'temperature': 'TEMP', 'salinity': 'PSAL'}"
   ]
  },
  {
   "cell_type": "markdown",
   "metadata": {
    "papermill": {
     "duration": 0.007923,
     "end_time": "2020-02-11T23:11:17.553349",
     "exception": false,
     "start_time": "2020-02-11T23:11:17.545426",
     "status": "completed"
    },
    "tags": []
   },
   "source": [
    "## Debugging\n",
    "\n",
    "Use option ``debug`` to print log messages "
   ]
  },
  {
   "cell_type": "code",
   "execution_count": 3,
   "metadata": {
    "papermill": {
     "duration": 29.057082,
     "end_time": "2020-02-11T23:11:46.618322",
     "exception": false,
     "start_time": "2020-02-11T23:11:17.561240",
     "status": "completed"
    },
    "tags": []
   },
   "outputs": [
    {
     "name": "stdout",
     "output_type": "stream",
     "text": [
      "> Start preprocessing for action 'fit'\n"
     ]
    },
    {
     "name": "stdout",
     "output_type": "stream",
     "text": [
      "\n",
      "\t> Preprocessing xarray dataset 'TEMP' as PCM feature 'temperature'\n",
      "\t [<class 'xarray.core.dataarray.DataArray'>, <class 'dask.array.core.Array'>, ((7560,), (282,))] X RAVELED with success\n",
      "\t\tOutput axis is in the input axis, not need to interpolate, simple intersection\n",
      "\t [<class 'xarray.core.dataarray.DataArray'>, <class 'dask.array.core.Array'>, ((7560,), (100,))] X INTERPOLATED with success)\n",
      "\t [<class 'xarray.core.dataarray.DataArray'>, <class 'numpy.ndarray'>, None] X SCALED with success)\n",
      "\t [<class 'xarray.core.dataarray.DataArray'>, <class 'numpy.ndarray'>, None] X REDUCED with success)\n",
      "\ttemperature pre-processed with success,  [<class 'xarray.core.dataarray.DataArray'>, <class 'numpy.ndarray'>, None]\n",
      "\tHomogenisation for fit of temperature\n",
      "\n",
      "\t> Preprocessing xarray dataset 'PSAL' as PCM feature 'salinity'\n"
     ]
    },
    {
     "name": "stdout",
     "output_type": "stream",
     "text": [
      "\t [<class 'xarray.core.dataarray.DataArray'>, <class 'dask.array.core.Array'>, ((7560,), (282,))] X RAVELED with success\n",
      "\t\tOutput axis is in the input axis, not need to interpolate, simple intersection\n",
      "\t [<class 'xarray.core.dataarray.DataArray'>, <class 'dask.array.core.Array'>, ((7560,), (100,))] X INTERPOLATED with success)\n",
      "\t [<class 'xarray.core.dataarray.DataArray'>, <class 'numpy.ndarray'>, None] X SCALED with success)\n",
      "\t [<class 'xarray.core.dataarray.DataArray'>, <class 'numpy.ndarray'>, None] X REDUCED with success)\n",
      "\tsalinity pre-processed with success,  [<class 'xarray.core.dataarray.DataArray'>, <class 'numpy.ndarray'>, None]\n",
      "\tHomogenisation for fit of salinity\n",
      "\tFeatures array shape and type for xarray: (7560, 30) <class 'numpy.ndarray'> <class 'memoryview'>\n",
      "> Preprocessing done, working with final X (<class 'xarray.core.dataarray.DataArray'>) array of shape: (7560, 30)  and sampling dimensions: ['N_PROF']\n"
     ]
    }
   ],
   "source": [
    "# Instantiate a new PCM:\n",
    "m = pcm(K=8, features=features_pcm, debug=True)\n",
    "\n",
    "# Fit with log:\n",
    "m.fit(ds, features=features_in_ds);"
   ]
  },
  {
   "cell_type": "markdown",
   "metadata": {
    "papermill": {
     "duration": 0.008073,
     "end_time": "2020-02-11T23:11:46.635321",
     "exception": false,
     "start_time": "2020-02-11T23:11:46.627248",
     "status": "completed"
    },
    "tags": [],
    "toc-hr-collapsed": true
   },
   "source": [
    "## Performance / Optimisation\n",
    "\n",
    "Use ``timeit`` and ``timeit_verb`` to compute computation time of PCM operations\n",
    "\n",
    "Times are accessible as a pandas Dataframe in ``timeit`` pyXpcm instance property.\n",
    "\n",
    "The pyXpcm ``m.plot.timeit()`` plot method allows for a simple visualisation of times."
   ]
  },
  {
   "cell_type": "markdown",
   "metadata": {
    "papermill": {
     "duration": 0.008314,
     "end_time": "2020-02-11T23:11:46.652113",
     "exception": false,
     "start_time": "2020-02-11T23:11:46.643799",
     "status": "completed"
    },
    "tags": []
   },
   "source": [
    "### Time readings during execution"
   ]
  },
  {
   "cell_type": "code",
   "execution_count": 4,
   "metadata": {
    "papermill": {
     "duration": 1.965568,
     "end_time": "2020-02-11T23:11:48.626395",
     "exception": false,
     "start_time": "2020-02-11T23:11:46.660827",
     "status": "completed"
    },
    "tags": []
   },
   "outputs": [
    {
     "name": "stdout",
     "output_type": "stream",
     "text": [
      "  fit.1-preprocess.1-mask: 18 ms\n",
      "  fit.1-preprocess.2-feature_temperature.1-ravel: 28 ms\n",
      "  fit.1-preprocess.2-feature_temperature.2-interp: 0 ms\n",
      "  fit.1-preprocess.2-feature_temperature.3-scale_fit: 7 ms\n",
      "  fit.1-preprocess.2-feature_temperature.4-scale_transform: 5 ms\n",
      "  fit.1-preprocess.2-feature_temperature.5-reduce_fit: 10 ms\n",
      "  fit.1-preprocess.2-feature_temperature.6-reduce_transform: 3 ms\n",
      "  fit.1-preprocess.2-feature_temperature.total: 56 ms\n",
      "  fit.1-preprocess: 56 ms\n",
      "  fit.1-preprocess.3-homogeniser: 1 ms\n",
      "  fit.1-preprocess.2-feature_salinity.1-ravel: 25 ms\n",
      "  fit.1-preprocess.2-feature_salinity.2-interp: 0 ms\n",
      "  fit.1-preprocess.2-feature_salinity.3-scale_fit: 7 ms\n",
      "  fit.1-preprocess.2-feature_salinity.4-scale_transform: 4 ms\n",
      "  fit.1-preprocess.2-feature_salinity.5-reduce_fit: 8 ms\n",
      "  fit.1-preprocess.2-feature_salinity.6-reduce_transform: 2 ms\n",
      "  fit.1-preprocess.2-feature_salinity.total: 49 ms\n",
      "  fit.1-preprocess: 49 ms\n",
      "  fit.1-preprocess.3-homogeniser: 1 ms\n",
      "  fit.1-preprocess.4-xarray: 1 ms\n",
      "  fit.1-preprocess: 130 ms\n"
     ]
    },
    {
     "name": "stdout",
     "output_type": "stream",
     "text": [
      "  fit.fit: 1808 ms\n",
      "  fit.score: 11 ms\n",
      "  fit: 1950 ms\n"
     ]
    }
   ],
   "source": [
    "# Create a PCM and execute methods:\n",
    "m = pcm(K=8, features=features_pcm, timeit=True, timeit_verb=1)\n",
    "m.fit(ds, features=features_in_ds);"
   ]
  },
  {
   "cell_type": "markdown",
   "metadata": {
    "papermill": {
     "duration": 0.008552,
     "end_time": "2020-02-11T23:11:48.643626",
     "exception": false,
     "start_time": "2020-02-11T23:11:48.635074",
     "status": "completed"
    },
    "tags": []
   },
   "source": [
    "### A posteriori Execution time analysis"
   ]
  },
  {
   "cell_type": "code",
   "execution_count": 5,
   "metadata": {
    "papermill": {
     "duration": 2.880456,
     "end_time": "2020-02-11T23:11:51.532853",
     "exception": false,
     "start_time": "2020-02-11T23:11:48.652397",
     "status": "completed"
    },
    "tags": []
   },
   "outputs": [],
   "source": [
    "# Create a PCM and execute methods:\n",
    "m = pcm(K=8, features=features_pcm, timeit=True, timeit_verb=0)\n",
    "m.fit(ds, features=features_in_ds);\n",
    "m.predict(ds, features=features_in_ds);\n",
    "m.fit_predict(ds, features=features_in_ds);"
   ]
  },
  {
   "cell_type": "raw",
   "metadata": {
    "papermill": {
     "duration": 0.008212,
     "end_time": "2020-02-11T23:11:51.550015",
     "exception": false,
     "start_time": "2020-02-11T23:11:51.541803",
     "status": "completed"
    },
    "raw_mimetype": "text/restructuredtext",
    "tags": []
   },
   "source": [
    "Execution times are accessible through a dataframe with the :py:attr:`pyxpcm.pcm.timeit` property"
   ]
  },
  {
   "cell_type": "code",
   "execution_count": 6,
   "metadata": {
    "papermill": {
     "duration": 0.028597,
     "end_time": "2020-02-11T23:11:51.587152",
     "exception": false,
     "start_time": "2020-02-11T23:11:51.558555",
     "status": "completed"
    },
    "tags": []
   },
   "outputs": [
    {
     "data": {
      "text/plain": [
       "Method       Sub-method    Sub-sub-method         Sub-sub-sub-method\n",
       "fit          1-preprocess  1-mask                 total                   19.186258\n",
       "                           2-feature_temperature  1-ravel                 29.289961\n",
       "                                                  2-interp                 0.762224\n",
       "                                                  3-scale_fit             10.540962\n",
       "                                                  4-scale_transform        4.344940\n",
       "                                                  5-reduce_fit            12.198925\n",
       "                                                  6-reduce_transform       3.142834\n",
       "                                                  total                   60.435057\n",
       "                           total                                         234.336853\n",
       "                           3-homogeniser          total                    2.140760\n",
       "                           2-feature_salinity     1-ravel                 19.970179\n",
       "                                                  2-interp                 0.593185\n",
       "                                                  3-scale_fit              7.848024\n",
       "                                                  4-scale_transform        4.257679\n",
       "                                                  5-reduce_fit             9.623051\n",
       "                                                  6-reduce_transform       2.494097\n",
       "                                                  total                   44.909000\n",
       "                           4-xarray               total                    0.961065\n",
       "             fit           total                                         587.491035\n",
       "             score         total                                           8.502722\n",
       "             total                                                       725.607157\n",
       "predict      1-preprocess  1-mask                 total                   18.770218\n",
       "                           2-feature_temperature  1-ravel                 28.826237\n",
       "                                                  2-interp                 0.662088\n",
       "                                                  3-scale_fit              0.000954\n",
       "                                                  4-scale_transform        4.433155\n",
       "                                                  5-reduce_fit             0.002146\n",
       "                                                  6-reduce_transform       2.367973\n",
       "                                                  total                   36.392927\n",
       "                           total                                         159.122705\n",
       "                                                                           ...     \n",
       "                           2-feature_salinity     6-reduce_transform       2.190113\n",
       "                                                  total                   32.028198\n",
       "                           4-xarray               total                    1.056910\n",
       "             predict       total                                           8.748055\n",
       "             score         total                                           9.220123\n",
       "             xarray        total                                           6.795168\n",
       "             total                                                       115.570784\n",
       "fit_predict  1-preprocess  1-mask                 total                   20.954132\n",
       "                           2-feature_temperature  1-ravel                 19.995928\n",
       "                                                  2-interp                 0.609875\n",
       "                                                  3-scale_fit              0.002146\n",
       "                                                  4-scale_transform        5.572796\n",
       "                                                  5-reduce_fit             0.001907\n",
       "                                                  6-reduce_transform       3.696918\n",
       "                                                  total                   29.983044\n",
       "                           total                                         147.693157\n",
       "                           3-homogeniser          total                    2.290010\n",
       "                           2-feature_salinity     1-ravel                 23.687124\n",
       "                                                  2-interp                 0.601768\n",
       "                                                  3-scale_fit              0.001907\n",
       "                                                  4-scale_transform        4.342079\n",
       "                                                  5-reduce_fit             0.002146\n",
       "                                                  6-reduce_transform       2.300024\n",
       "                                                  total                   31.037092\n",
       "                           4-xarray               total                    0.983000\n",
       "             fit           total                                        1915.206909\n",
       "             score         total                                           8.549929\n",
       "             predict       total                                           7.378817\n",
       "             xarray        total                                           5.806923\n",
       "             total                                                      2024.175167\n",
       "Length: 66, dtype: float64"
      ]
     },
     "execution_count": 6,
     "metadata": {},
     "output_type": "execute_result"
    }
   ],
   "source": [
    "m.timeit"
   ]
  },
  {
   "cell_type": "markdown",
   "metadata": {
    "papermill": {
     "duration": 0.008547,
     "end_time": "2020-02-11T23:11:51.604748",
     "exception": false,
     "start_time": "2020-02-11T23:11:51.596201",
     "status": "completed"
    },
    "raw_mimetype": "-",
    "tags": []
   },
   "source": [
    "## Visualisation help"
   ]
  },
  {
   "cell_type": "raw",
   "metadata": {
    "papermill": {
     "duration": 0.008586,
     "end_time": "2020-02-11T23:11:51.622539",
     "exception": false,
     "start_time": "2020-02-11T23:11:51.613953",
     "status": "completed"
    },
    "raw_mimetype": "text/restructuredtext",
    "tags": []
   },
   "source": [
    "To facilitate your analysis of execution times, you can use :meth:`pyxpcm.plot.timeit`."
   ]
  },
  {
   "cell_type": "markdown",
   "metadata": {
    "papermill": {
     "duration": 0.008808,
     "end_time": "2020-02-11T23:11:51.640141",
     "exception": false,
     "start_time": "2020-02-11T23:11:51.631333",
     "status": "completed"
    },
    "tags": []
   },
   "source": [
    "### Main steps by method"
   ]
  },
  {
   "cell_type": "code",
   "execution_count": 7,
   "metadata": {
    "papermill": {
     "duration": 0.262245,
     "end_time": "2020-02-11T23:11:51.911234",
     "exception": false,
     "start_time": "2020-02-11T23:11:51.648989",
     "status": "completed"
    },
    "tags": []
   },
   "outputs": [
    {
     "data": {
      "text/html": [
       "<div>\n",
       "<style scoped>\n",
       "    .dataframe tbody tr th:only-of-type {\n",
       "        vertical-align: middle;\n",
       "    }\n",
       "\n",
       "    .dataframe tbody tr th {\n",
       "        vertical-align: top;\n",
       "    }\n",
       "\n",
       "    .dataframe thead th {\n",
       "        text-align: right;\n",
       "    }\n",
       "</style>\n",
       "<table border=\"1\" class=\"dataframe\">\n",
       "  <thead>\n",
       "    <tr style=\"text-align: right;\">\n",
       "      <th>Sub-method</th>\n",
       "      <th>1-preprocess</th>\n",
       "      <th>fit</th>\n",
       "      <th>predict</th>\n",
       "      <th>score</th>\n",
       "      <th>xarray</th>\n",
       "    </tr>\n",
       "    <tr>\n",
       "      <th>Method</th>\n",
       "      <th></th>\n",
       "      <th></th>\n",
       "      <th></th>\n",
       "      <th></th>\n",
       "      <th></th>\n",
       "    </tr>\n",
       "  </thead>\n",
       "  <tbody>\n",
       "    <tr>\n",
       "      <th>fit</th>\n",
       "      <td>467.035055</td>\n",
       "      <td>587.491035</td>\n",
       "      <td>NaN</td>\n",
       "      <td>8.502722</td>\n",
       "      <td>NaN</td>\n",
       "    </tr>\n",
       "    <tr>\n",
       "      <th>fit_predict</th>\n",
       "      <td>293.755054</td>\n",
       "      <td>1915.206909</td>\n",
       "      <td>7.378817</td>\n",
       "      <td>8.549929</td>\n",
       "      <td>5.806923</td>\n",
       "    </tr>\n",
       "    <tr>\n",
       "      <th>predict</th>\n",
       "      <td>316.407442</td>\n",
       "      <td>NaN</td>\n",
       "      <td>8.748055</td>\n",
       "      <td>9.220123</td>\n",
       "      <td>6.795168</td>\n",
       "    </tr>\n",
       "  </tbody>\n",
       "</table>\n",
       "</div>"
      ],
      "text/plain": [
       "Sub-method   1-preprocess          fit   predict     score    xarray\n",
       "Method                                                              \n",
       "fit            467.035055   587.491035       NaN  8.502722       NaN\n",
       "fit_predict    293.755054  1915.206909  7.378817  8.549929  5.806923\n",
       "predict        316.407442          NaN  8.748055  9.220123  6.795168"
      ]
     },
     "execution_count": 7,
     "metadata": {},
     "output_type": "execute_result"
    },
    {
     "data": {
      "image/png": "[encoded data removed]",
      "text/plain": [
       "<Figure size 450x270 with 1 Axes>"
      ]
     },
     "metadata": {},
     "output_type": "display_data"
    }
   ],
   "source": [
    "fig, ax, df = m.plot.timeit(group='Method', split='Sub-method', style='darkgrid') # Default group/split\n",
    "df"
   ]
  },
  {
   "cell_type": "markdown",
   "metadata": {
    "papermill": {
     "duration": 0.010049,
     "end_time": "2020-02-11T23:11:51.931069",
     "exception": false,
     "start_time": "2020-02-11T23:11:51.921020",
     "status": "completed"
    },
    "tags": []
   },
   "source": [
    "### Preprocessing main steps by method"
   ]
  },
  {
   "cell_type": "code",
   "execution_count": 8,
   "metadata": {
    "papermill": {
     "duration": 0.242671,
     "end_time": "2020-02-11T23:11:52.183666",
     "exception": false,
     "start_time": "2020-02-11T23:11:51.940995",
     "status": "completed"
    },
    "tags": []
   },
   "outputs": [
    {
     "data": {
      "text/html": [
       "<div>\n",
       "<style scoped>\n",
       "    .dataframe tbody tr th:only-of-type {\n",
       "        vertical-align: middle;\n",
       "    }\n",
       "\n",
       "    .dataframe tbody tr th {\n",
       "        vertical-align: top;\n",
       "    }\n",
       "\n",
       "    .dataframe thead th {\n",
       "        text-align: right;\n",
       "    }\n",
       "</style>\n",
       "<table border=\"1\" class=\"dataframe\">\n",
       "  <thead>\n",
       "    <tr style=\"text-align: right;\">\n",
       "      <th>Sub-sub-method</th>\n",
       "      <th>1-mask</th>\n",
       "      <th>2-feature_salinity</th>\n",
       "      <th>2-feature_temperature</th>\n",
       "      <th>3-homogeniser</th>\n",
       "      <th>4-xarray</th>\n",
       "    </tr>\n",
       "    <tr>\n",
       "      <th>Method</th>\n",
       "      <th></th>\n",
       "      <th></th>\n",
       "      <th></th>\n",
       "      <th></th>\n",
       "      <th></th>\n",
       "    </tr>\n",
       "  </thead>\n",
       "  <tbody>\n",
       "    <tr>\n",
       "      <th>fit</th>\n",
       "      <td>19.186258</td>\n",
       "      <td>89.695215</td>\n",
       "      <td>120.714903</td>\n",
       "      <td>2.140760</td>\n",
       "      <td>0.961065</td>\n",
       "    </tr>\n",
       "    <tr>\n",
       "      <th>fit_predict</th>\n",
       "      <td>20.954132</td>\n",
       "      <td>61.972141</td>\n",
       "      <td>59.862614</td>\n",
       "      <td>2.290010</td>\n",
       "      <td>0.983000</td>\n",
       "    </tr>\n",
       "    <tr>\n",
       "      <th>predict</th>\n",
       "      <td>18.770218</td>\n",
       "      <td>63.952446</td>\n",
       "      <td>72.685480</td>\n",
       "      <td>0.819683</td>\n",
       "      <td>1.056910</td>\n",
       "    </tr>\n",
       "  </tbody>\n",
       "</table>\n",
       "</div>"
      ],
      "text/plain": [
       "Sub-sub-method     1-mask  2-feature_salinity  2-feature_temperature  \\\n",
       "Method                                                                 \n",
       "fit             19.186258           89.695215             120.714903   \n",
       "fit_predict     20.954132           61.972141              59.862614   \n",
       "predict         18.770218           63.952446              72.685480   \n",
       "\n",
       "Sub-sub-method  3-homogeniser  4-xarray  \n",
       "Method                                   \n",
       "fit                  2.140760  0.961065  \n",
       "fit_predict          2.290010  0.983000  \n",
       "predict              0.819683  1.056910  "
      ]
     },
     "execution_count": 8,
     "metadata": {},
     "output_type": "execute_result"
    },
    {
     "data": {
      "image/png": "[encoded data removed]",
      "text/plain": [
       "<Figure size 450x270 with 1 Axes>"
      ]
     },
     "metadata": {},
     "output_type": "display_data"
    }
   ],
   "source": [
    "fig, ax, df = m.plot.timeit(group='Method', split='Sub-sub-method')\n",
    "df"
   ]
  },
  {
   "cell_type": "markdown",
   "metadata": {
    "papermill": {
     "duration": 0.010335,
     "end_time": "2020-02-11T23:11:52.204868",
     "exception": false,
     "start_time": "2020-02-11T23:11:52.194533",
     "status": "completed"
    },
    "tags": []
   },
   "source": [
    "### Preprocessing details by method"
   ]
  },
  {
   "cell_type": "code",
   "execution_count": 9,
   "metadata": {
    "papermill": {
     "duration": 0.24357,
     "end_time": "2020-02-11T23:11:52.460526",
     "exception": false,
     "start_time": "2020-02-11T23:11:52.216956",
     "status": "completed"
    },
    "tags": []
   },
   "outputs": [
    {
     "data": {
      "text/html": [
       "<div>\n",
       "<style scoped>\n",
       "    .dataframe tbody tr th:only-of-type {\n",
       "        vertical-align: middle;\n",
       "    }\n",
       "\n",
       "    .dataframe tbody tr th {\n",
       "        vertical-align: top;\n",
       "    }\n",
       "\n",
       "    .dataframe thead th {\n",
       "        text-align: right;\n",
       "    }\n",
       "</style>\n",
       "<table border=\"1\" class=\"dataframe\">\n",
       "  <thead>\n",
       "    <tr style=\"text-align: right;\">\n",
       "      <th>Sub-sub-sub-method</th>\n",
       "      <th>1-ravel</th>\n",
       "      <th>2-interp</th>\n",
       "      <th>3-scale_fit</th>\n",
       "      <th>4-scale_transform</th>\n",
       "      <th>5-reduce_fit</th>\n",
       "      <th>6-reduce_transform</th>\n",
       "    </tr>\n",
       "    <tr>\n",
       "      <th>Method</th>\n",
       "      <th></th>\n",
       "      <th></th>\n",
       "      <th></th>\n",
       "      <th></th>\n",
       "      <th></th>\n",
       "      <th></th>\n",
       "    </tr>\n",
       "  </thead>\n",
       "  <tbody>\n",
       "    <tr>\n",
       "      <th>fit</th>\n",
       "      <td>49.260139</td>\n",
       "      <td>1.355410</td>\n",
       "      <td>18.388987</td>\n",
       "      <td>8.602619</td>\n",
       "      <td>21.821976</td>\n",
       "      <td>5.636930</td>\n",
       "    </tr>\n",
       "    <tr>\n",
       "      <th>fit_predict</th>\n",
       "      <td>43.683052</td>\n",
       "      <td>1.211643</td>\n",
       "      <td>0.004053</td>\n",
       "      <td>9.914875</td>\n",
       "      <td>0.004053</td>\n",
       "      <td>5.996943</td>\n",
       "    </tr>\n",
       "    <tr>\n",
       "      <th>predict</th>\n",
       "      <td>53.658247</td>\n",
       "      <td>1.307964</td>\n",
       "      <td>0.003099</td>\n",
       "      <td>8.685350</td>\n",
       "      <td>0.004053</td>\n",
       "      <td>4.558086</td>\n",
       "    </tr>\n",
       "  </tbody>\n",
       "</table>\n",
       "</div>"
      ],
      "text/plain": [
       "Sub-sub-sub-method    1-ravel  2-interp  3-scale_fit  4-scale_transform  \\\n",
       "Method                                                                    \n",
       "fit                 49.260139  1.355410    18.388987           8.602619   \n",
       "fit_predict         43.683052  1.211643     0.004053           9.914875   \n",
       "predict             53.658247  1.307964     0.003099           8.685350   \n",
       "\n",
       "Sub-sub-sub-method  5-reduce_fit  6-reduce_transform  \n",
       "Method                                                \n",
       "fit                    21.821976            5.636930  \n",
       "fit_predict             0.004053            5.996943  \n",
       "predict                 0.004053            4.558086  "
      ]
     },
     "execution_count": 9,
     "metadata": {},
     "output_type": "execute_result"
    },
    {
     "data": {
      "image/png": "[encoded data removed]",
      "text/plain": [
       "<Figure size 450x270 with 1 Axes>"
      ]
     },
     "metadata": {},
     "output_type": "display_data"
    }
   ],
   "source": [
    "fig, ax, df = m.plot.timeit(group='Method', split='Sub-sub-sub-method')\n",
    "df"
   ]
  },
  {
   "cell_type": "markdown",
   "metadata": {
    "papermill": {
     "duration": 0.014857,
     "end_time": "2020-02-11T23:11:52.486981",
     "exception": false,
     "start_time": "2020-02-11T23:11:52.472124",
     "status": "completed"
    },
    "tags": []
   },
   "source": [
    "### Preprocessing details by features"
   ]
  },
  {
   "cell_type": "code",
   "execution_count": 10,
   "metadata": {
    "papermill": {
     "duration": 0.277487,
     "end_time": "2020-02-11T23:11:52.776417",
     "exception": false,
     "start_time": "2020-02-11T23:11:52.498930",
     "status": "completed"
    },
    "tags": []
   },
   "outputs": [
    {
     "data": {
      "text/html": [
       "<div>\n",
       "<style scoped>\n",
       "    .dataframe tbody tr th:only-of-type {\n",
       "        vertical-align: middle;\n",
       "    }\n",
       "\n",
       "    .dataframe tbody tr th {\n",
       "        vertical-align: top;\n",
       "    }\n",
       "\n",
       "    .dataframe thead th {\n",
       "        text-align: right;\n",
       "    }\n",
       "</style>\n",
       "<table border=\"1\" class=\"dataframe\">\n",
       "  <thead>\n",
       "    <tr style=\"text-align: right;\">\n",
       "      <th>Sub-sub-sub-method</th>\n",
       "      <th>1-ravel</th>\n",
       "      <th>2-interp</th>\n",
       "      <th>3-scale_fit</th>\n",
       "      <th>4-scale_transform</th>\n",
       "      <th>5-reduce_fit</th>\n",
       "      <th>6-reduce_transform</th>\n",
       "    </tr>\n",
       "    <tr>\n",
       "      <th>Sub-sub-method</th>\n",
       "      <th></th>\n",
       "      <th></th>\n",
       "      <th></th>\n",
       "      <th></th>\n",
       "      <th></th>\n",
       "      <th></th>\n",
       "    </tr>\n",
       "  </thead>\n",
       "  <tbody>\n",
       "    <tr>\n",
       "      <th>2-feature_salinity</th>\n",
       "      <td>0.068489</td>\n",
       "      <td>0.001841</td>\n",
       "      <td>0.007852</td>\n",
       "      <td>0.012852</td>\n",
       "      <td>0.009627</td>\n",
       "      <td>0.006984</td>\n",
       "    </tr>\n",
       "    <tr>\n",
       "      <th>2-feature_temperature</th>\n",
       "      <td>0.078112</td>\n",
       "      <td>0.002034</td>\n",
       "      <td>0.010544</td>\n",
       "      <td>0.014351</td>\n",
       "      <td>0.012203</td>\n",
       "      <td>0.009208</td>\n",
       "    </tr>\n",
       "  </tbody>\n",
       "</table>\n",
       "</div>"
      ],
      "text/plain": [
       "Sub-sub-sub-method      1-ravel  2-interp  3-scale_fit  4-scale_transform  \\\n",
       "Sub-sub-method                                                              \n",
       "2-feature_salinity     0.068489  0.001841     0.007852           0.012852   \n",
       "2-feature_temperature  0.078112  0.002034     0.010544           0.014351   \n",
       "\n",
       "Sub-sub-sub-method     5-reduce_fit  6-reduce_transform  \n",
       "Sub-sub-method                                           \n",
       "2-feature_salinity         0.009627            0.006984  \n",
       "2-feature_temperature      0.012203            0.009208  "
      ]
     },
     "execution_count": 10,
     "metadata": {},
     "output_type": "execute_result"
    },
    {
     "data": {
      "image/png": "[encoded data removed]",
      "text/plain": [
       "<Figure size 450x270 with 1 Axes>"
      ]
     },
     "metadata": {},
     "output_type": "display_data"
    }
   ],
   "source": [
    "fig, ax, df = m.plot.timeit(split='Sub-sub-sub-method', group='Sub-sub-method', unit='s')\n",
    "df"
   ]
  }
 ],
 "metadata": {
  "kernelspec": {
   "display_name": "obidam36",
   "language": "python",
   "name": "obidam36"
  },
  "language_info": {
   "codemirror_mode": {
    "name": "ipython",
    "version": 3
   },
   "file_extension": ".py",
   "mimetype": "text/x-python",
   "name": "python",
   "nbconvert_exporter": "python",
   "pygments_lexer": "ipython3",
   "version": "3.6.7"
  },
  "papermill": {
   "duration": 37.923946,
   "end_time": "2020-02-11T23:11:53.422156",
   "environment_variables": {},
   "exception": null,
   "input_path": "debug_perf.ipynb",
   "output_path": "../debug_perf.ipynb",
   "parameters": {},
   "start_time": "2020-02-11T23:11:15.498210",
   "version": "1.2.1"
  },
  "toc-showmarkdowntxt": true
 },
 "nbformat": 4,
 "nbformat_minor": 2
}